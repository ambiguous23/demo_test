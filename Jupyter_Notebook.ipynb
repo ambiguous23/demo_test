{
  "metadata": {
    "kernelspec": {
      "name": "python",
      "display_name": "Pyolite",
      "language": "python"
    },
    "language_info": {
      "codemirror_mode": {
        "name": "python",
        "version": 3
      },
      "file_extension": ".py",
      "mimetype": "text/x-python",
      "name": "python",
      "nbconvert_exporter": "python",
      "pygments_lexer": "ipython3",
      "version": "3.8"
    }
  },
  "nbformat_minor": 4,
  "nbformat": 4,
  "cells": [
    {
      "cell_type": "markdown",
      "source": "<center>\n    <img src=\"https://s3-api.us-geo.objectstorage.softlayer.net/cf-courses-data/CognitiveClass/Logos/organization_logo/organization_logo.png\" width=\"300\" alt=\"cognitiveclass.ai logo\"  />\n</center>\n",
      "metadata": {}
    },
    {
      "cell_type": "markdown",
      "source": "#### Add your code below following the instructions given in the course\n",
      "metadata": {}
    },
    {
      "cell_type": "markdown",
      "source": "# My Jupyter Notebook on IBM Watson Studio",
      "metadata": {}
    },
    {
      "cell_type": "markdown",
      "source": "**Paolo Domingo**\n\nData Scientist",
      "metadata": {}
    },
    {
      "cell_type": "markdown",
      "source": "*I am interested in Data Science because I want to make things better, as simple as that.*",
      "metadata": {}
    },
    {
      "cell_type": "markdown",
      "source": "### Let's talk about Options Greeks! Below are the letters that I have assigned to represent the main Greeks - variables that are used by traders to assess risks in the options market",
      "metadata": {}
    },
    {
      "cell_type": "code",
      "source": ">>> d = \"Delta\"\n>>> t = \"Theta\"\n>>> g = \"Gamma\"\n>>> v = \"Vega\"",
      "metadata": {
        "trusted": true
      },
      "execution_count": 10,
      "outputs": []
    },
    {
      "cell_type": "markdown",
      "source": "| Greek | Measures the Impact of |\n|---| ---|\n| Delta | Change in Price        |\n| Theta | Change in Time         |\n| Gamma | Change in Delta        |\n| Vega  | Change in Volatility   |\n\n----------\n> Greeks are used by options traders and portfolio managers to understand how their options investments will behave as prices move, and to hedge their positions accordingly.\n\n----------\n[Learn more about Option Greeks](https://www.investopedia.com/terms/g/greeks.asp)",
      "metadata": {}
    }
  ]
}